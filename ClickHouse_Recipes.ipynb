{
  "nbformat": 4,
  "nbformat_minor": 0,
  "metadata": {
    "colab": {
      "name": "ClickHouse_Recipes.ipynb",
      "provenance": [],
      "authorship_tag": "ABX9TyNBCmJ9//C0FbOkihiKSTOG",
      "include_colab_link": true
    },
    "kernelspec": {
      "name": "python3",
      "display_name": "Python 3"
    },
    "language_info": {
      "name": "python"
    }
  },
  "cells": [
    {
      "cell_type": "markdown",
      "metadata": {
        "id": "view-in-github",
        "colab_type": "text"
      },
      "source": [
        "<a href=\"https://colab.research.google.com/github/AlisonJD/RTACourse/blob/main/ClickHouse_Recipes.ipynb\" target=\"_parent\"><img src=\"https://colab.research.google.com/assets/colab-badge.svg\" alt=\"Open In Colab\"/></a>"
      ]
    },
    {
      "cell_type": "code",
      "metadata": {
        "colab": {
          "base_uri": "https://localhost:8080/"
        },
        "id": "CFgYT4fLXx_k",
        "outputId": "e38896d9-50a5-4e7f-d413-d88d8e1ca9a6"
      },
      "source": [
        "from google.colab import drive\n",
        "drive.mount('/content/gdrive', force_remount=False)\n",
        "\n",
        "% cd \"/content/gdrive/My Drive/Colab Notebooks/Tinybird\""
      ],
      "execution_count": 1,
      "outputs": [
        {
          "output_type": "stream",
          "text": [
            "Mounted at /content/gdrive\n",
            "/content/gdrive/My Drive/Colab Notebooks/Tinybird\n"
          ],
          "name": "stdout"
        }
      ]
    },
    {
      "cell_type": "code",
      "metadata": {
        "id": "_GFigteTX1JS"
      },
      "source": [
        "def write_text_to_file(filename, text):\n",
        "  with open(filename, 'w') as f:\n",
        "      f.write(text)"
      ],
      "execution_count": 7,
      "outputs": []
    },
    {
      "cell_type": "code",
      "metadata": {
        "colab": {
          "base_uri": "https://localhost:8080/"
        },
        "id": "67ok5WDXX9xj",
        "outputId": "aa6e3ec0-cea1-4db9-8f33-9a387b77449f"
      },
      "source": [
        "!pip install tinybird-cli -qq"
      ],
      "execution_count": 2,
      "outputs": [
        {
          "output_type": "stream",
          "text": [
            "\u001b[?25l\r\u001b[K     |████▋                           | 10 kB 19.5 MB/s eta 0:00:01\r\u001b[K     |█████████▏                      | 20 kB 23.5 MB/s eta 0:00:01\r\u001b[K     |█████████████▉                  | 30 kB 27.3 MB/s eta 0:00:01\r\u001b[K     |██████████████████▍             | 40 kB 23.2 MB/s eta 0:00:01\r\u001b[K     |███████████████████████         | 51 kB 19.5 MB/s eta 0:00:01\r\u001b[K     |███████████████████████████▋    | 61 kB 14.5 MB/s eta 0:00:01\r\u001b[K     |████████████████████████████████| 71 kB 6.0 MB/s \n",
            "\u001b[K     |████████████████████████████████| 46 kB 3.4 MB/s \n",
            "\u001b[K     |████████████████████████████████| 81 kB 6.8 MB/s \n",
            "\u001b[K     |████████████████████████████████| 54 kB 2.5 MB/s \n",
            "\u001b[K     |████████████████████████████████| 86 kB 4.3 MB/s \n",
            "\u001b[K     |████████████████████████████████| 61 kB 6.9 MB/s \n",
            "\u001b[?25h  Building wheel for tabulate (setup.py) ... \u001b[?25l\u001b[?25hdone\n",
            "\u001b[31mERROR: pip's dependency resolver does not currently take into account all the packages that are installed. This behaviour is the source of the following dependency conflicts.\n",
            "google-colab 1.0.0 requires requests~=2.23.0, but you have requests 2.25.1 which is incompatible.\n",
            "datascience 0.10.6 requires folium==0.2.1, but you have folium 0.8.3 which is incompatible.\u001b[0m\n"
          ],
          "name": "stdout"
        }
      ]
    },
    {
      "cell_type": "code",
      "metadata": {
        "colab": {
          "base_uri": "https://localhost:8080/"
        },
        "id": "m3aACmHPX-OR",
        "outputId": "059d53e9-34d4-4209-a8d1-79a0658b5a6a"
      },
      "source": [
        "!tb auth"
      ],
      "execution_count": 3,
      "outputs": [
        {
          "output_type": "stream",
          "text": [
            "Copy the admin token from https://ui.tinybird.co/tokens and paste it here: \n",
            "\u001b[92m** Auth successful! \n",
            "** Configuration written to .tinyb file, consider adding it to .gitignore\u001b[0m\n"
          ],
          "name": "stdout"
        }
      ]
    },
    {
      "cell_type": "code",
      "metadata": {
        "id": "CJFLSaImYBDQ"
      },
      "source": [
        "ClickHouse Recipes Dataset\n",
        "\n",
        "https://www1.nyc.gov/site/tlc/about/tlc-trip-record-data.page\n",
        "\n",
        "Here we create a datasource of yellow taxi trips in 2019 and a lookup datasource of locations."
      ],
      "execution_count": null,
      "outputs": []
    },
    {
      "cell_type": "markdown",
      "metadata": {
        "id": "SUkXlqmoYYyx"
      },
      "source": [
        "ClickHouse Recipes Dataset\n",
        "\n",
        "https://clickhouse.tech/docs/en/getting-started/example-datasets/recipes/\n",
        "\n",
        "Here we create a datasource of recipes using the TSV from ClickHouse table of recipes."
      ]
    },
    {
      "cell_type": "code",
      "metadata": {
        "id": "uCZK2C5YY6NH"
      },
      "source": [
        "filename = \"datasources/recipes.datasource\"\n",
        "text = '''\n",
        "SCHEMA >\n",
        "    `title` String,\n",
        "    `ingredients` Array(String),\n",
        "    `directions` Array(String),\n",
        "    `link` String,\n",
        "    `source` LowCardinality(String),\n",
        "    `NER` Array(String)\n",
        "'''\n",
        "\n",
        "write_text_to_file(filename, text)"
      ],
      "execution_count": 9,
      "outputs": []
    },
    {
      "cell_type": "code",
      "metadata": {
        "colab": {
          "base_uri": "https://localhost:8080/"
        },
        "id": "IDICp4TxbyIS",
        "outputId": "628615db-38bb-4cc3-f6ea-1d9e4a332f53"
      },
      "source": [
        "!tb push datasources/recipes.datasource"
      ],
      "execution_count": 10,
      "outputs": [
        {
          "output_type": "stream",
          "text": [
            "\u001b[0m** Processing datasources/recipes.datasource\u001b[0m\n",
            "\u001b[0m** Building dependencies\u001b[0m\n",
            "\u001b[0m** Running recipes \u001b[0m\n",
            "\u001b[92m** 'recipes' created\u001b[0m\n",
            "\u001b[0m** Not pushing fixtures\u001b[0m\n"
          ],
          "name": "stdout"
        }
      ]
    },
    {
      "cell_type": "code",
      "metadata": {
        "colab": {
          "base_uri": "https://localhost:8080/"
        },
        "id": "ZorW5To1ce1V",
        "outputId": "fac830d0-4aef-46f0-ef26-6e670385bdc9"
      },
      "source": [
        "!tb datasource append recipes "
      ],
      "execution_count": 11,
      "outputs": [
        {
          "output_type": "stream",
          "text": [
            "datasources  endpoints\texplorations  pipes  RTACourse\n"
          ],
          "name": "stdout"
        }
      ]
    },
    {
      "cell_type": "code",
      "metadata": {
        "id": "gkKIHnjkckJG"
      },
      "source": [
        ""
      ],
      "execution_count": null,
      "outputs": []
    }
  ]
}
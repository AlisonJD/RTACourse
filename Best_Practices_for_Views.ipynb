{
  "nbformat": 4,
  "nbformat_minor": 0,
  "metadata": {
    "colab": {
      "name": "Best_Practices_for_Views.ipynb",
      "provenance": [],
      "collapsed_sections": [],
      "toc_visible": true,
      "include_colab_link": true
    },
    "kernelspec": {
      "name": "python3",
      "display_name": "Python 3"
    },
    "language_info": {
      "name": "python"
    }
  },
  "cells": [
    {
      "cell_type": "markdown",
      "metadata": {
        "id": "view-in-github",
        "colab_type": "text"
      },
      "source": [
        "<a href=\"https://colab.research.google.com/github/AlisonJD/RTACourse/blob/main/Best_Practices_for_Views.ipynb\" target=\"_parent\"><img src=\"https://colab.research.google.com/assets/colab-badge.svg\" alt=\"Open In Colab\"/></a>"
      ]
    },
    {
      "cell_type": "markdown",
      "metadata": {
        "id": "jX7LszPITPpj"
      },
      "source": [
        "![tb_Logo Navbar.jpg](data:image/jpeg;base64,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)\n",
        "#Principles of Real-Time Analytics Course"
      ]
    },
    {
      "cell_type": "code",
      "metadata": {
        "colab": {
          "base_uri": "https://localhost:8080/"
        },
        "id": "jmZc98PsjKVm",
        "outputId": "72177a90-3472-4721-e621-e95e3d7bb364"
      },
      "source": [
        "from google.colab import drive\n",
        "drive.mount('/content/gdrive', force_remount=False)\n",
        "\n",
        "% cd \"/content/gdrive/My Drive/Colab Notebooks/Tinybird\""
      ],
      "execution_count": null,
      "outputs": [
        {
          "output_type": "stream",
          "text": [
            "Drive already mounted at /content/gdrive; to attempt to forcibly remount, call drive.mount(\"/content/gdrive\", force_remount=True).\n",
            "/content/gdrive/My Drive/Colab Notebooks/Tinybird\n"
          ],
          "name": "stdout"
        }
      ]
    },
    {
      "cell_type": "code",
      "metadata": {
        "id": "_9pconZIlBud"
      },
      "source": [
        "def write_text_tofile(filename, text):\n",
        "  with open(filename, 'w') as f:\n",
        "      f.write(text)"
      ],
      "execution_count": null,
      "outputs": []
    },
    {
      "cell_type": "code",
      "metadata": {
        "colab": {
          "base_uri": "https://localhost:8080/"
        },
        "id": "pv2TrFRve5-g",
        "outputId": "fe3cd9a5-3577-458f-f779-652913dd38a6"
      },
      "source": [
        "!pip install tinybird-cli -q\n",
        "!tb auth"
      ],
      "execution_count": null,
      "outputs": [
        {
          "output_type": "stream",
          "text": [
            "Copy the admin token from https://ui.tinybird.co/tokens and paste it here: \n",
            "\u001b[92m** Auth successful! \n",
            "** Configuration written to .tinyb file, consider adding it to .gitignore\u001b[0m\n"
          ],
          "name": "stdout"
        }
      ]
    },
    {
      "cell_type": "markdown",
      "metadata": {
        "id": "PYOIoAgqgWb8"
      },
      "source": [
        "# Best Practices for Views\n",
        "Views are a really powerful tool to analyze large amounts of data really quickly. Normal views do not store any data, they just perform a read from another table on each access. Materialized views store data transformed by the corresponding SELECT query. Live views store the result of the corresponding SELECT query and are updated any time the result of the query changes. \n",
        "\n",
        "We usually talk about materialized and live views. Here we will focus on materialized views here because they really help solving some real-time problems.\n",
        "\n",
        "Materialized views are useful because if you frequently run the same query on a table it makes sense to run the query once, save the result and just fetch that result. They have two downsides:\n",
        " - They need space.\n",
        " - They add management work (especially recalculating them when new data comes in). \n",
        " - They need to be updated and changed if the source schema changes.\n",
        " - They generally only work for some use cases.\n",
        "\n",
        "\n",
        "Let’s see how to manage these issues and leverage views to get 100-1000x improvements.\n",
        "\n",
        "Views are a way to trade memory and disk to save CPU. That means we will have more things in disk/memory but when we need to use them the CPU will need to fetch less data or do less work than if they didn’t exist.\n",
        "\n",
        "This means spending more money on disk and less money on CPUs. This is a very good tradeoff since, in the cloud, each CPU can be around 25x more expensive than each GB of disk.\n",
        "\n",
        "Here we see some use cases and best practices.\n",
        "\n"
      ]
    },
    {
      "cell_type": "markdown",
      "metadata": {
        "id": "gFUo_73kgvqn"
      },
      "source": [
        "## Denormalization on Ingest\n",
        "This is one of the most common use cases. It means calculating things when the data arrives (on ingestion time) so that you save a version of your original data with extra/enriched/prepared data. You could do the same operations at query time but when you do them on ingest time you execute the operation once and query many times (so the query time is less than it would be without the view).\n"
      ]
    },
    {
      "cell_type": "markdown",
      "metadata": {
        "id": "qpX5IY6Ug4gq"
      },
      "source": [
        "### Join with a Dimensions Dataset\n",
        "Here we use the New York City Taxi Trip dataset and the join table `taxi__zone_lookup` to add columns for the pick-up and drop-off boroughs from the dimensions table to the main table using a pipe. The datasources are created [here](https://colab.research.google.com/drive/1dvZAaHs-Xp3QpCUOPpl_Nb97YilLLZp2?usp=sharing). "
      ]
    },
    {
      "cell_type": "code",
      "metadata": {
        "id": "sr5-FliEkqhG"
      },
      "source": [
        "filename = 'pipes/denormalize_taxi.pipe'\n",
        "text='''\n",
        "NODE denormalized\n",
        "SQL >\n",
        "    SELECT \n",
        "    *,\n",
        "    joinGet('taxi__zone_lookup', 'borough', dolocationid) doborough,\n",
        "    joinGet('taxi__zone_lookup', 'borough', pulocationid) puborough\n",
        "    FROM taxi\n",
        "\n",
        "'''\n",
        "\n",
        "write_file(filename, text)"
      ],
      "execution_count": null,
      "outputs": []
    },
    {
      "cell_type": "code",
      "metadata": {
        "colab": {
          "base_uri": "https://localhost:8080/"
        },
        "id": "xwqR7IBklNjy",
        "outputId": "1983c301-762c-4960-e16b-98ea2b8da9b6"
      },
      "source": [
        "!cat pipes/denormalize_taxi.pipe"
      ],
      "execution_count": null,
      "outputs": [
        {
          "output_type": "stream",
          "text": [
            "\n",
            "NODE denormalized\n",
            "SQL >\n",
            "    SELECT \n",
            "    *,\n",
            "    joinGet('taxi__zone_lookup', 'borough', dolocationid) doborough,\n",
            "    joinGet('taxi__zone_lookup', 'borough', pulocationid) puborough\n",
            "    FROM taxi\n",
            "\n"
          ],
          "name": "stdout"
        }
      ]
    },
    {
      "cell_type": "code",
      "metadata": {
        "colab": {
          "base_uri": "https://localhost:8080/"
        },
        "id": "Nrueox7bhi6p",
        "outputId": "f97657b0-c7e3-4fd6-9a8f-ac222bf58038"
      },
      "source": [
        "!tb push --populate --force pipes/denormalize_taxi.pipe"
      ],
      "execution_count": null,
      "outputs": [
        {
          "output_type": "stream",
          "text": [
            "\u001b[0m** Processing pipes/denormalize_taxi.pipe\u001b[0m\n",
            "\u001b[0m** Building dependencies\u001b[0m\n",
            "\u001b[0m** Running denormalize_taxi \u001b[0m\n",
            "\u001b[92m** => Test endpoint at https://api.tinybird.co/v0/pipes/denormalize_taxi.json\u001b[0m\n",
            "\u001b[92m** 'denormalize_taxi' created\u001b[0m\n",
            "\u001b[0m** Not pushing fixtures\u001b[0m\n"
          ],
          "name": "stdout"
        }
      ]
    },
    {
      "cell_type": "code",
      "metadata": {
        "colab": {
          "base_uri": "https://localhost:8080/"
        },
        "id": "FPzGukrLhDxH",
        "outputId": "4bd7eac6-f075-46b7-be6d-90f5aa7c86db"
      },
      "source": [
        "!tb sql \"SELECT * FROM denormalize_taxi LIMIT 1\""
      ],
      "execution_count": null,
      "outputs": [
        {
          "output_type": "stream",
          "text": [
            "------------------------------------------\n",
            "\u001b[1;32mvendorid:\u001b[0m 1\n",
            "\u001b[1;32mtpep_pickup_datetime:\u001b[0m 2019-08-17 12:04:03\n",
            "\u001b[1;32mtpep_dropoff_datetime:\u001b[0m 2019-08-17 12:14:41\n",
            "\u001b[1;32mpassenger_count:\u001b[0m 1\n",
            "\u001b[1;32mtrip_distance:\u001b[0m 1.5\n",
            "\u001b[1;32mratecodeid:\u001b[0m 1\n",
            "\u001b[1;32mstore_and_fwd_flag:\u001b[0m N\n",
            "\u001b[1;32mpulocationid:\u001b[0m 68\n",
            "\u001b[1;32mdolocationid:\u001b[0m 164\n",
            "\u001b[1;32mpayment_type:\u001b[0m 1\n",
            "\u001b[1;32mfare_amount:\u001b[0m 9\n",
            "\u001b[1;32mextra:\u001b[0m 2.5\n",
            "\u001b[1;32mmta_tax:\u001b[0m 0.5\n",
            "\u001b[1;32mtip_amount:\u001b[0m 2.45\n",
            "\u001b[1;32mtolls_amount:\u001b[0m 0\n",
            "\u001b[1;32mimprovement_surcharge:\u001b[0m 0.3\n",
            "\u001b[1;32mtotal_amount:\u001b[0m 14.75\n",
            "\u001b[1;32mcongestion_surcharge:\u001b[0m 2.5\n",
            "\u001b[1;32mdoborough:\u001b[0m Manhattan\n",
            "\u001b[1;32mpuborough:\u001b[0m Manhattan\n",
            "------------------------------------------\n"
          ],
          "name": "stdout"
        }
      ]
    },
    {
      "cell_type": "markdown",
      "metadata": {
        "id": "MyS93lHxzrgo"
      },
      "source": [
        "### Precalculate Something that would Take a Lot of CPU cycles\n",
        "Imagine that you have a column that is calculated from others in the table. You could calculate it on ingestion time to avoid running those calculations during the query. \n",
        "\n",
        "In this simple example the estimated trip fare is calculated although calculations are usually more complex than just a multiplication.\n"
      ]
    },
    {
      "cell_type": "code",
      "metadata": {
        "colab": {
          "base_uri": "https://localhost:8080/"
        },
        "id": "bah0K17h0CUg",
        "outputId": "ece07ea4-29cd-48c5-d3d9-442372f4a949"
      },
      "source": [
        "!tb sql --stats \"SELECT avg(fare_amount/trip_distance) AS avg_per_mile FROM taxi WHERE trip_distance > 0\""
      ],
      "execution_count": null,
      "outputs": [
        {
          "output_type": "stream",
          "text": [
            "\u001b[0m** Query took 0.074803347 seconds\n",
            "** Rows read: 84,152,418\n",
            "** Bytes read: 673.22 MB\u001b[0m\n",
            "---------------------\n",
            "|      \u001b[1;32mavg_per_mile\u001b[0m |\n",
            "---------------------\n",
            "| 7.807361125726695 |\n",
            "---------------------\n"
          ],
          "name": "stdout"
        }
      ]
    },
    {
      "cell_type": "markdown",
      "metadata": {
        "id": "-nYbsQFj1_ak"
      },
      "source": [
        "If we create a materialized view of the taxi table with an additional column for the  estimated fare then we can run fast queries without the calculation.\n",
        "\n",
        "First we create the taxi_mv datasource with the additional column for `estimated_fare`."
      ]
    },
    {
      "cell_type": "code",
      "metadata": {
        "id": "zfKmbNJ93sps"
      },
      "source": [
        "filename=\"datasources/taxi_mv.datasource\"\n",
        "text='''\n",
        "SCHEMA >\n",
        "    `estimated_fare` Float32,\n",
        "    `vendorid` Int16,\n",
        "    `tpep_pickup_datetime` DateTime,\n",
        "    `tpep_dropoff_datetime` DateTime,\n",
        "    `passenger_count` Nullable(Int16),\n",
        "    `trip_distance` Float32,\n",
        "    `ratecodeid` Nullable(Int16),\n",
        "    `store_and_fwd_flag` String,\n",
        "    `pulocationid` Int32,\n",
        "    `dolocationid` Int32,\n",
        "    `payment_type` Nullable(Int16),\n",
        "    `fare_amount` Float32,\n",
        "    `extra` Float32,\n",
        "    `mta_tax` Float32,\n",
        "    `tip_amount` Float32,\n",
        "    `tolls_amount` Float32,\n",
        "    `improvement_surcharge` Float32,\n",
        "    `total_amount` Float32,\n",
        "    `congestion_surcharge` Nullable(Float32)\n",
        "\n",
        "ENGINE \"MergeTree\"\n",
        "ENGINE_PARTITION_KEY \"toMonth(tpep_pickup_datetime)\"\n",
        "ENGINE_SORTING_KEY \"tpep_pickup_datetime\"\n",
        "'''\n",
        "\n",
        "write_file(filename, text)"
      ],
      "execution_count": null,
      "outputs": []
    },
    {
      "cell_type": "code",
      "metadata": {
        "colab": {
          "base_uri": "https://localhost:8080/"
        },
        "id": "fiZCpCC4105f",
        "outputId": "210ad2d7-8b91-4e3e-dfb3-03215d239bcc"
      },
      "source": [
        "!tb push datasources/taxi_mv.datasource"
      ],
      "execution_count": null,
      "outputs": [
        {
          "output_type": "stream",
          "text": [
            "\u001b[0m** Processing datasources/taxi_mv.datasource\u001b[0m\n",
            "\u001b[0m** Building dependencies\u001b[0m\n",
            "\u001b[0m** Running taxi_mv \u001b[0m\n",
            "\u001b[92m** 'taxi_mv' created\u001b[0m\n",
            "\u001b[0m** Not pushing fixtures\u001b[0m\n"
          ],
          "name": "stdout"
        }
      ]
    },
    {
      "cell_type": "code",
      "metadata": {
        "id": "CcQ6clzB2Rko"
      },
      "source": [
        "filename = 'pipes/cost_estimate.pipe'\n",
        "text = '''\n",
        "NODE cost_estimate_node\n",
        "SQL >\n",
        "\n",
        "    SELECT\n",
        "trip_distance * 7.807361125727003 AS estimated_fare,\n",
        "        *\n",
        "    FROM taxi\n",
        "\n",
        "TYPE materialized\n",
        "DATASOURCE taxi_mv\n",
        "'''\n",
        "\n",
        "write_file(filename, text)"
      ],
      "execution_count": null,
      "outputs": []
    },
    {
      "cell_type": "code",
      "metadata": {
        "colab": {
          "base_uri": "https://localhost:8080/"
        },
        "id": "o5zyfr_33Mlr",
        "outputId": "6175efb6-2d8a-4447-c83e-ca2dfb8ed45b"
      },
      "source": [
        "!tb push pipes/cost_estimate.pipe --skip-table-checks --populate"
      ],
      "execution_count": null,
      "outputs": [
        {
          "output_type": "stream",
          "text": [
            "\u001b[0m** Processing pipes/cost_estimate.pipe\u001b[0m\n",
            "\u001b[0m** Building dependencies\u001b[0m\n",
            "\u001b[0m** Running cost_estimate \u001b[0m\n",
            "\u001b[0m** Materialized node 'cost_estimate_node' used the Data Source 'taxi_mv'\u001b[0m\n",
            "\u001b[0m** Populating job url https://api.tinybird.co/v0/jobs/b8068369-f142-4a47-b21c-57c960343b85\u001b[0m\n",
            "\u001b[92m** 'cost_estimate' created\u001b[0m\n",
            "\u001b[0m** Not pushing fixtures\u001b[0m\n"
          ],
          "name": "stdout"
        }
      ]
    },
    {
      "cell_type": "code",
      "metadata": {
        "colab": {
          "base_uri": "https://localhost:8080/"
        },
        "id": "zgUkjGTG3STn",
        "outputId": "474cd55f-2711-4b7b-c11a-4f9142f8b802"
      },
      "source": [
        "!tb sql --stats \"SELECT estimated_fare, fare_amount FROM cost_estimate LIMIT 15\""
      ],
      "execution_count": null,
      "outputs": [
        {
          "output_type": "stream",
          "text": [
            "\u001b[0m** Query took 0.001537145 seconds\n",
            "** Rows read: 15\n",
            "** Bytes read: 120 bytes\u001b[0m\n",
            "--------------------------------\n",
            "| \u001b[1;32mestimated_fare\u001b[0m | \u001b[1;32mfare_amount\u001b[0m |\n",
            "--------------------------------\n",
            "|      3.3571653 |         3.5 |\n",
            "|      25.139704 |        13.5 |\n",
            "|              0 |        11.5 |\n",
            "|              0 |         2.5 |\n",
            "|              0 |           0 |\n",
            "|              0 |           0 |\n",
            "|              0 |           0 |\n",
            "|              0 |           0 |\n",
            "|       67.84596 |          34 |\n",
            "|      112.89444 |          40 |\n",
            "|      11.320674 |          10 |\n",
            "|       24.04667 |          11 |\n",
            "|      26.232733 |        14.5 |\n",
            "|      14.521692 |          10 |\n",
            "|       8.666171 |           9 |\n",
            "--------------------------------\n"
          ],
          "name": "stdout"
        }
      ]
    },
    {
      "cell_type": "markdown",
      "metadata": {
        "id": "ex79qpR96Er7"
      },
      "source": [
        "The estimation algorithm is not very good 😅 but the query is super fast and reads little data."
      ]
    },
    {
      "cell_type": "markdown",
      "metadata": {
        "id": "zxVaIyFKFWUc"
      },
      "source": [
        "### Precalculate Something that will Help when Joining with other Datasets at Query Time\n",
        "\n",
        "If you have a join like\n",
        "\n",
        "```\n",
        "SELECT * \n",
        "FROM A \n",
        "JOIN B \n",
        "ON A.id = B.id and A.foo = B.foo\n",
        "-- using id, foo\n",
        "```\n",
        "\n",
        "As we saw, you could have an extra column with id + foo so the query would be\n",
        "\n",
        "```\n",
        "SELECT * \n",
        "FROM A \n",
        "JOIN B \n",
        "ON A.foo_id = B.foo_id\n",
        "WHERE attr = 1\n",
        "````\n",
        "\n",
        "This speeds up the join because you just read one parameter and just check once. Not only that, it also enables (if your database supports it) hash join which is much faster."
      ]
    },
    {
      "cell_type": "markdown",
      "metadata": {
        "id": "e_m4MmQOE-qQ"
      },
      "source": [
        "### JSON Data Denormalization"
      ]
    },
    {
      "cell_type": "markdown",
      "metadata": {
        "id": "iL4egl8qGACl"
      },
      "source": [
        "## Use Arrays to Denormalize\n",
        "A way to save a lot of rows is to use arrays. Mostly for secondary use cases or the ones you would join after a filter.\n",
        "\n",
        "For example, if we have a table `user_events` with all the mouse clicks or taps during a session, it might make sense to save all of them in the same row using an array instead of saving one row per click. In other words, it’s a way to save a join.\n",
        "\n",
        "The downside is that databases don’t usually have inverted indices so you might want to generate another column or columns based on array content to be able to index.\n",
        "\n",
        "In this example, if we define the table as:\n",
        "```\n",
        "UserId UInt64\n",
        "Timestamp DateTime\n",
        "ClickPoints Array(Int32, Int32)\n",
        "```\n",
        "Then we could do a query to search clicks on a particular zone from people older than 70:\n",
        "```\n",
        "SELECT x, y from ( \n",
        "SELECT * FROM user_events \n",
        "JOIN user_info \n",
        "USING UserId\n",
        "WHERE user_info.age > 70\n",
        ") array join ClickPoints as (x, y)\n",
        "WHERE x between 10 and 100\n",
        "```\n",
        "In this case, if we have, for example, 50 clicks per user as an average, the join will have to do 50x less work. Then the array join generates one entry for each element of the ClickPoints array and we can filter by x, y.\n",
        "\n",
        "Take into account that this is useful in two main situations:\n",
        " - When it allows you to save joins or other expensive operations. If you always need to do the array join this way to store data then it doesn’t make any sense.\n",
        " - When you only need the array join for a small % of use cases in which you use the table. Mainly because you optimize the main use case making worse the secondary use cases but improving the timing overall."
      ]
    },
    {
      "cell_type": "markdown",
      "metadata": {
        "id": "blD6noAWG9Jm"
      },
      "source": [
        "## Incremental Views\n",
        "One of the main problems of views is updating them. That’s why you need to pick a database that allows you to update them incrementally. It does not make any sense to update a view of a 4 billion row table every time you append more data.\n",
        "\n",
        "So how do you update a view that generates an aggregation? For example,\n",
        "```\n",
        "SELECT date, avg(response_time), uniq(user_id) \n",
        "FROM events\n",
        "GROUP BY date\n",
        "````\n",
        "You might think the view needs to be fully updated if you append a new event with a new `user_id`. \n",
        "\n",
        "You don’t, there are ways to do this really simply. Let’s see an example with the Yandex `hits` dataset. It contains tracking information (like Google Analytics)"
      ]
    }
  ]
}
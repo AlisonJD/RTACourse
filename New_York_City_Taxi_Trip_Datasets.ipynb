{
  "nbformat": 4,
  "nbformat_minor": 0,
  "metadata": {
    "colab": {
      "name": "New_York_City_Taxi_Trip_Datasets.ipynb",
      "provenance": [],
      "collapsed_sections": [],
      "include_colab_link": true
    },
    "kernelspec": {
      "name": "python3",
      "display_name": "Python 3"
    },
    "language_info": {
      "name": "python"
    }
  },
  "cells": [
    {
      "cell_type": "markdown",
      "metadata": {
        "id": "view-in-github",
        "colab_type": "text"
      },
      "source": [
        "<a href=\"https://colab.research.google.com/github/AlisonJD/RTACourse/blob/main/New_York_City_Taxi_Trip_Datasets.ipynb\" target=\"_parent\"><img src=\"https://colab.research.google.com/assets/colab-badge.svg\" alt=\"Open In Colab\"/></a>"
      ]
    },
    {
      "cell_type": "code",
      "metadata": {
        "colab": {
          "base_uri": "https://localhost:8080/"
        },
        "id": "S8ECsv8fp2Uh",
        "outputId": "753c3e85-5897-4259-a07a-a57d3c230d76"
      },
      "source": [
        "from google.colab import drive\n",
        "drive.mount('/content/gdrive', force_remount=False)\n",
        "\n",
        "% cd \"/content/gdrive/My Drive/Colab Notebooks/Tinybird\""
      ],
      "execution_count": null,
      "outputs": [
        {
          "output_type": "stream",
          "text": [
            "Mounted at /content/gdrive\n",
            "/content/gdrive/My Drive/Colab Notebooks/Tinybird\n"
          ],
          "name": "stdout"
        }
      ]
    },
    {
      "cell_type": "code",
      "metadata": {
        "id": "byEBZwfIp74w"
      },
      "source": [
        "def write_text_to_file(filename, text):\n",
        "  with open(filename, 'w') as f:\n",
        "      f.write(text)"
      ],
      "execution_count": null,
      "outputs": []
    },
    {
      "cell_type": "code",
      "metadata": {
        "id": "bXlYjBfmp_Tp",
        "colab": {
          "base_uri": "https://localhost:8080/"
        },
        "outputId": "b2be21a1-518f-432a-b3fc-17b53c8eaaa6"
      },
      "source": [
        "!pip install tinybird-cli -qq"
      ],
      "execution_count": null,
      "outputs": [
        {
          "output_type": "stream",
          "text": [
            "\u001b[?25l\r\u001b[K     |████▋                           | 10 kB 22.1 MB/s eta 0:00:01\r\u001b[K     |█████████▏                      | 20 kB 27.8 MB/s eta 0:00:01\r\u001b[K     |█████████████▉                  | 30 kB 28.3 MB/s eta 0:00:01\r\u001b[K     |██████████████████▍             | 40 kB 29.1 MB/s eta 0:00:01\r\u001b[K     |███████████████████████         | 51 kB 30.4 MB/s eta 0:00:01\r\u001b[K     |███████████████████████████▋    | 61 kB 32.2 MB/s eta 0:00:01\r\u001b[K     |████████████████████████████████| 71 kB 6.9 MB/s \n",
            "\u001b[K     |████████████████████████████████| 46 kB 3.2 MB/s \n",
            "\u001b[K     |████████████████████████████████| 54 kB 2.3 MB/s \n",
            "\u001b[K     |████████████████████████████████| 61 kB 6.6 MB/s \n",
            "\u001b[K     |████████████████████████████████| 81 kB 8.1 MB/s \n",
            "\u001b[K     |████████████████████████████████| 86 kB 4.4 MB/s \n",
            "\u001b[?25h  Building wheel for tabulate (setup.py) ... \u001b[?25l\u001b[?25hdone\n",
            "\u001b[31mERROR: pip's dependency resolver does not currently take into account all the packages that are installed. This behaviour is the source of the following dependency conflicts.\n",
            "google-colab 1.0.0 requires requests~=2.23.0, but you have requests 2.25.1 which is incompatible.\n",
            "datascience 0.10.6 requires folium==0.2.1, but you have folium 0.8.3 which is incompatible.\u001b[0m\n"
          ],
          "name": "stdout"
        }
      ]
    },
    {
      "cell_type": "code",
      "metadata": {
        "colab": {
          "base_uri": "https://localhost:8080/"
        },
        "id": "YO6oDri90iZr",
        "outputId": "01ee2109-1e68-4198-edb4-1a21d6cee1ba"
      },
      "source": [
        "!tb auth"
      ],
      "execution_count": null,
      "outputs": [
        {
          "output_type": "stream",
          "text": [
            "Copy the admin token from https://ui.tinybird.co/tokens and paste it here: \n",
            "\u001b[92m** Auth successful! \n",
            "** Configuration written to .tinyb file, consider adding it to .gitignore\u001b[0m\n"
          ],
          "name": "stdout"
        }
      ]
    },
    {
      "cell_type": "markdown",
      "metadata": {
        "id": "qzDswU5HrLtb"
      },
      "source": [
        "#New_York_City_Taxi_Trip_Datasets\n",
        "\n",
        "https://www1.nyc.gov/site/tlc/about/tlc-trip-record-data.page\n",
        "\n",
        "Here we create a datasource of yellow taxi trips in 2019 and a lookup datasource of locations."
      ]
    },
    {
      "cell_type": "code",
      "metadata": {
        "colab": {
          "base_uri": "https://localhost:8080/"
        },
        "id": "N3oDOMrnrOuE",
        "outputId": "84838164-ed3f-4dc3-fc74-9b9e3e9f016f"
      },
      "source": [
        "!tb datasource generate https://s3.amazonaws.com/nyc-tlc/trip+data/yellow_tripdata_2019-01.csv"
      ],
      "execution_count": null,
      "outputs": [
        {
          "output_type": "stream",
          "text": [
            "\u001b[92m** Generated datasources/yellow_tripdata_2019_01.datasource\n",
            "** => Create it on the server running: $ tb push datasources/yellow_tripdata_2019_01.datasource\n",
            "** => Append data using: $ tb datasource append yellow_tripdata_2019-01 https://s3.amazonaws.com/nyc-tlc/trip+data/yellow_tripdata_2019-01.csv`\n",
            "\u001b[0m\n"
          ],
          "name": "stdout"
        }
      ]
    },
    {
      "cell_type": "code",
      "metadata": {
        "id": "9BhO2P9zrk9C"
      },
      "source": [
        "!mv datasources/yellow_tripdata_2019_01.datasource datasources/taxi.datasource"
      ],
      "execution_count": null,
      "outputs": []
    },
    {
      "cell_type": "code",
      "metadata": {
        "id": "oXko_8nArpVF"
      },
      "source": [
        "filename=\"datasources/taxi.datasource\"\n",
        "text='''\n",
        "DESCRIPTION amending schema that would be automatically generated\n",
        "SCHEMA >\n",
        "    `vendorid` Int16,\n",
        "    `tpep_pickup_datetime` DateTime,\n",
        "    `tpep_dropoff_datetime` DateTime,\n",
        "    `passenger_count` Nullable(Int16),\n",
        "    `trip_distance` Float32,\n",
        "    `ratecodeid` Nullable(Int16),\n",
        "    `store_and_fwd_flag` String,\n",
        "    `pulocationid` Int32,\n",
        "    `dolocationid` Int32,\n",
        "    `payment_type` Nullable(Int16),\n",
        "    `fare_amount` Float32,\n",
        "    `extra` Float32,\n",
        "    `mta_tax` Float32,\n",
        "    `tip_amount` Float32,\n",
        "    `tolls_amount` Float32,\n",
        "    `improvement_surcharge` Float32,\n",
        "    `total_amount` Float32,\n",
        "    `congestion_surcharge` Nullable(Float32)\n",
        "\n",
        "ENGINE \"MergeTree\"\n",
        "ENGINE_PARTITION_KEY \"toMonth(tpep_pickup_datetime)\"\n",
        "ENGINE_SORTING_KEY \"tpep_pickup_datetime\"\n",
        "'''\n",
        "\n",
        "write_text_to_file(filename, text)"
      ],
      "execution_count": null,
      "outputs": []
    },
    {
      "cell_type": "code",
      "metadata": {
        "colab": {
          "base_uri": "https://localhost:8080/"
        },
        "id": "MgVmx3-_tP5R",
        "outputId": "6a85752b-5f99-4e36-9cd6-086c671b92b3"
      },
      "source": [
        "!tb push datasources/taxi.datasource"
      ],
      "execution_count": null,
      "outputs": [
        {
          "output_type": "stream",
          "text": [
            "\u001b[0m** Processing datasources/taxi.datasource\u001b[0m\n",
            "\u001b[0m** Building dependencies\u001b[0m\n",
            "\u001b[0m** Running taxi \u001b[0m\n",
            "\u001b[92m** 'taxi' created\u001b[0m\n",
            "\u001b[0m** Not pushing fixtures\u001b[0m\n"
          ],
          "name": "stdout"
        }
      ]
    },
    {
      "cell_type": "code",
      "metadata": {
        "colab": {
          "base_uri": "https://localhost:8080/"
        },
        "id": "m95VuWOTtmFo",
        "outputId": "fd829848-11fa-4c48-b265-b93121996580"
      },
      "source": [
        "!tb datasource append taxi https://s3.amazonaws.com/nyc-tlc/trip+data/yellow_tripdata_2019-01.csv"
      ],
      "execution_count": null,
      "outputs": [
        {
          "output_type": "stream",
          "text": [
            "\u001b[0m** 🥚 starting import process\u001b[0m\n",
            "\u001b[92m** 🐥 done\u001b[0m\n",
            "\u001b[92m** Total rows in taxi: 7667792\u001b[0m\n",
            "\u001b[92m** Data appended to data source 'taxi' successfully!\u001b[0m\n",
            "\u001b[0m** Data pushed to taxi\u001b[0m\n"
          ],
          "name": "stdout"
        }
      ]
    },
    {
      "cell_type": "code",
      "metadata": {
        "colab": {
          "base_uri": "https://localhost:8080/"
        },
        "id": "qXABjxMjtsMX",
        "outputId": "bc83c3a5-0ffc-4a2f-aaa3-649deea91e99"
      },
      "source": [
        "!tb sql \"SELECT count() FROM taxi\""
      ],
      "execution_count": null,
      "outputs": [
        {
          "output_type": "stream",
          "text": [
            "-----------\n",
            "| \u001b[1;32mcount()\u001b[0m |\n",
            "-----------\n",
            "| 7667792 |\n",
            "-----------\n"
          ],
          "name": "stdout"
        }
      ]
    },
    {
      "cell_type": "code",
      "metadata": {
        "colab": {
          "base_uri": "https://localhost:8080/"
        },
        "id": "6jwGkk6ot-NF",
        "outputId": "7c170636-a061-4444-d488-82ef5c564d86"
      },
      "source": [
        "!tb datasource append taxi https://s3.amazonaws.com/nyc-tlc/trip+data/yellow_tripdata_2019-02.csv"
      ],
      "execution_count": null,
      "outputs": [
        {
          "output_type": "stream",
          "text": [
            "\u001b[0m** 🥚 starting import process\u001b[0m\n",
            "\u001b[92m** 🐥 done\u001b[0m\n",
            "\u001b[92m** Total rows in taxi: 14687167\u001b[0m\n",
            "\u001b[92m** Data appended to data source 'taxi' successfully!\u001b[0m\n",
            "\u001b[0m** Data pushed to taxi\u001b[0m\n"
          ],
          "name": "stdout"
        }
      ]
    },
    {
      "cell_type": "code",
      "metadata": {
        "colab": {
          "base_uri": "https://localhost:8080/"
        },
        "id": "UuWoR88-uBND",
        "outputId": "4c8f2602-0c66-4f54-b451-9a72cf7f3d5a"
      },
      "source": [
        "!tb datasource append taxi https://s3.amazonaws.com/nyc-tlc/trip+data/yellow_tripdata_2019-03.csv\n",
        "!tb datasource append taxi https://s3.amazonaws.com/nyc-tlc/trip+data/yellow_tripdata_2019-04.csv"
      ],
      "execution_count": null,
      "outputs": [
        {
          "output_type": "stream",
          "text": [
            "\u001b[0m** 🥚 starting import process\u001b[0m\n",
            "\u001b[92m** 🐥 done\u001b[0m\n",
            "\u001b[92m** Total rows in taxi: 22519712\u001b[0m\n",
            "\u001b[92m** Data appended to data source 'taxi' successfully!\u001b[0m\n",
            "\u001b[0m** Data pushed to taxi\u001b[0m\n",
            "\u001b[0m** 🥚 starting import process\u001b[0m\n",
            "\u001b[92m** 🐥 done\u001b[0m\n",
            "\u001b[92m** Total rows in taxi: 29952851\u001b[0m\n",
            "\u001b[92m** Data appended to data source 'taxi' successfully!\u001b[0m\n",
            "\u001b[0m** Data pushed to taxi\u001b[0m\n"
          ],
          "name": "stdout"
        }
      ]
    },
    {
      "cell_type": "code",
      "metadata": {
        "colab": {
          "base_uri": "https://localhost:8080/"
        },
        "id": "VMPnOGVMuQaD",
        "outputId": "5b9504c0-c265-4e13-d476-2d35f4abe561"
      },
      "source": [
        "!tb datasource append taxi https://s3.amazonaws.com/nyc-tlc/trip+data/yellow_tripdata_2019-05.csv\n",
        "!tb datasource append taxi https://s3.amazonaws.com/nyc-tlc/trip+data/yellow_tripdata_2019-06.csv\n",
        "!tb datasource append taxi https://s3.amazonaws.com/nyc-tlc/trip+data/yellow_tripdata_2019-07.csv\n",
        "!tb datasource append taxi https://s3.amazonaws.com/nyc-tlc/trip+data/yellow_tripdata_2019-08.csv\n",
        "!tb datasource append taxi https://s3.amazonaws.com/nyc-tlc/trip+data/yellow_tripdata_2019-09.csv\n",
        "!tb datasource append taxi https://s3.amazonaws.com/nyc-tlc/trip+data/yellow_tripdata_2019-10.csv\n",
        "!tb datasource append taxi https://s3.amazonaws.com/nyc-tlc/trip+data/yellow_tripdata_2019-11.csv\n",
        "!tb datasource append taxi https://s3.amazonaws.com/nyc-tlc/trip+data/yellow_tripdata_2019-12.csv"
      ],
      "execution_count": null,
      "outputs": [
        {
          "output_type": "stream",
          "text": [
            "\u001b[0m** 🥚 starting import process\u001b[0m\n",
            "\u001b[92m** 🐥 done\u001b[0m\n",
            "\u001b[92m** Total rows in taxi: 37518112\u001b[0m\n",
            "\u001b[92m** Data appended to data source 'taxi' successfully!\u001b[0m\n",
            "\u001b[0m** Data pushed to taxi\u001b[0m\n",
            "\u001b[0m** 🥚 starting import process\u001b[0m\n",
            "\u001b[92m** 🐥 done\u001b[0m\n",
            "\u001b[92m** Total rows in taxi: 44459136\u001b[0m\n",
            "\u001b[92m** Data appended to data source 'taxi' successfully!\u001b[0m\n",
            "\u001b[0m** Data pushed to taxi\u001b[0m\n",
            "\u001b[0m** 🥚 starting import process\u001b[0m\n",
            "\u001b[91m\n",
            "** There was an error with file contents: 33959 rows in quarantine.\u001b[0m\n",
            "\u001b[0m** 🥚 starting import process\u001b[0m\n",
            "\u001b[91m\n",
            "** There was an error with file contents: 33321 rows in quarantine.\u001b[0m\n",
            "\u001b[0m** 🥚 starting import process\u001b[0m\n",
            "\u001b[91m\n",
            "** There was an error with file contents: 34089 rows in quarantine.\u001b[0m\n",
            "\u001b[0m** 🥚 starting import process\u001b[0m\n",
            "\u001b[91m\n",
            "** There was an error with file contents: 46723 rows in quarantine.\u001b[0m\n",
            "\u001b[0m** 🥚 starting import process\u001b[0m\n",
            "\u001b[91m\n",
            "** There was an error with file contents: 47491 rows in quarantine.\u001b[0m\n",
            "\u001b[0m** 🥚 starting import process\u001b[0m\n",
            "\u001b[91m\n",
            "** There was an error with file contents: 51018 rows in quarantine.\u001b[0m\n"
          ],
          "name": "stdout"
        }
      ]
    },
    {
      "cell_type": "markdown",
      "metadata": {
        "id": "YOCVbGvau7kV"
      },
      "source": [
        "Note that there are null values in `vendorid` from 2019-07 onwards; these rows are put into a quarantine table."
      ]
    },
    {
      "cell_type": "code",
      "metadata": {
        "colab": {
          "base_uri": "https://localhost:8080/"
        },
        "id": "bORoxZPpvAjB",
        "outputId": "0ac3ecda-4fac-406b-f361-ca82621157db"
      },
      "source": [
        "!tb sql \"SELECT count() FROM taxi\""
      ],
      "execution_count": null,
      "outputs": [
        {
          "output_type": "stream",
          "text": [
            "------------\n",
            "|  \u001b[1;32mcount()\u001b[0m |\n",
            "------------\n",
            "| 84152418 |\n",
            "------------\n"
          ],
          "name": "stdout"
        }
      ]
    },
    {
      "cell_type": "code",
      "metadata": {
        "colab": {
          "base_uri": "https://localhost:8080/"
        },
        "id": "SpNpiK6zvI1K",
        "outputId": "273fa612-9047-44a1-9d1f-a194e0747558"
      },
      "source": [
        "!tb datasource generate https://s3.amazonaws.com/nyc-tlc/misc/taxi+_zone_lookup.csv "
      ],
      "execution_count": null,
      "outputs": [
        {
          "output_type": "stream",
          "text": [
            "\u001b[92m** Generated datasources/taxi__zone_lookup.datasource\n",
            "** => Create it on the server running: $ tb push datasources/taxi__zone_lookup.datasource\n",
            "** => Append data using: $ tb datasource append taxi+_zone_lookup https://s3.amazonaws.com/nyc-tlc/misc/taxi+_zone_lookup.csv`\n",
            "\u001b[0m\n"
          ],
          "name": "stdout"
        }
      ]
    },
    {
      "cell_type": "code",
      "metadata": {
        "id": "-up6hqrVvM59"
      },
      "source": [
        "filename=\"datasources/taxi__zone_lookup.datasource\"\n",
        "text='''\n",
        "DESCRIPTION join engine added to the generated datasource\n",
        "SCHEMA >\n",
        "    `locationid` Int32,\n",
        "    `borough` String,\n",
        "    `zone` String,\n",
        "    `service_zone` String\n",
        "\n",
        "ENGINE \"Join\"\n",
        "ENGINE_JOIN_STRICTNESS \"ANY\"\n",
        "ENGINE_JOIN_TYPE \"LEFT\"\n",
        "ENGINE_KEY_COLUMNS \"locationid\"\n",
        "'''\n",
        "\n",
        "write_text_to_file(filename, text)"
      ],
      "execution_count": null,
      "outputs": []
    },
    {
      "cell_type": "code",
      "metadata": {
        "colab": {
          "base_uri": "https://localhost:8080/"
        },
        "id": "2mPVvQvnwsOV",
        "outputId": "16f1a6f0-191d-4e24-97dd-c7dec273124b"
      },
      "source": [
        "!tb push ./datasources/taxi__zone_lookup.datasource"
      ],
      "execution_count": null,
      "outputs": [
        {
          "output_type": "stream",
          "text": [
            "\u001b[0m** Processing ./datasources/taxi__zone_lookup.datasource\u001b[0m\n",
            "\u001b[0m** Building dependencies\u001b[0m\n",
            "\u001b[0m** Running taxi__zone_lookup \u001b[0m\n",
            "\u001b[92m** 'taxi__zone_lookup' created\u001b[0m\n",
            "\u001b[0m** Not pushing fixtures\u001b[0m\n"
          ],
          "name": "stdout"
        }
      ]
    },
    {
      "cell_type": "code",
      "metadata": {
        "colab": {
          "base_uri": "https://localhost:8080/"
        },
        "id": "5xIpo-7uw3a0",
        "outputId": "60488ae3-7984-477d-872a-b8591081c2b0"
      },
      "source": [
        "!tb datasource append taxi__zone_lookup https://s3.amazonaws.com/nyc-tlc/misc/taxi+_zone_lookup.csv"
      ],
      "execution_count": null,
      "outputs": [
        {
          "output_type": "stream",
          "text": [
            "\u001b[0m** 🥚 starting import process\u001b[0m\n",
            "\u001b[92m** 🐥 done\u001b[0m\n",
            "\u001b[92m** Total rows in taxi__zone_lookup: None\u001b[0m\n",
            "\u001b[92m** Data appended to data source 'taxi__zone_lookup' successfully!\u001b[0m\n",
            "\u001b[0m** Data pushed to taxi__zone_lookup\u001b[0m\n"
          ],
          "name": "stdout"
        }
      ]
    },
    {
      "cell_type": "code",
      "metadata": {
        "id": "rr559nuXxNHh"
      },
      "source": [
        ""
      ],
      "execution_count": null,
      "outputs": []
    }
  ]
}
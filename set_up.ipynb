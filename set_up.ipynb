{
  "nbformat": 4,
  "nbformat_minor": 0,
  "metadata": {
    "colab": {
      "name": "set_up.ipynb",
      "provenance": [],
      "collapsed_sections": []
    },
    "kernelspec": {
      "name": "python3",
      "display_name": "Python 3"
    },
    "language_info": {
      "name": "python"
    }
  },
  "cells": [
    {
      "cell_type": "markdown",
      "metadata": {
        "id": "5HNhn3L_-2SN"
      },
      "source": [
        "# Set up\n",
        "\n",
        "<a href=\"https://colab.research.google.com/github/AlisonJD/RTACourse/blob/main/set_up.ipynb\" target=\"_parent\"><img src=\"https://colab.research.google.com/assets/colab-badge.svg\" alt=\"Open In Colab\"/></a>\n",
        "\n",
        "This notebook demonstrates how to mount your Google drive, install the Tinybird CLI and create the required directories."
      ]
    },
    {
      "cell_type": "code",
      "metadata": {
        "colab": {
          "base_uri": "https://localhost:8080/"
        },
        "id": "Mrzew0ee-6Y7",
        "outputId": "093d8d45-af21-41f0-c657-e9ef2674f9b3"
      },
      "source": [
        "from google.colab import drive\n",
        "drive.mount('/content/gdrive', force_remount=False)\n",
        "\n",
        "% cd \"/content/gdrive/My Drive/Colab Notebooks\""
      ],
      "execution_count": 10,
      "outputs": [
        {
          "output_type": "stream",
          "text": [
            "Drive already mounted at /content/gdrive; to attempt to forcibly remount, call drive.mount(\"/content/gdrive\", force_remount=True).\n",
            "/content/gdrive/My Drive/Colab Notebooks\n"
          ],
          "name": "stdout"
        }
      ]
    },
    {
      "cell_type": "code",
      "metadata": {
        "id": "tM0xzJvLB3wJ"
      },
      "source": [
        "import os"
      ],
      "execution_count": 12,
      "outputs": []
    },
    {
      "cell_type": "code",
      "metadata": {
        "colab": {
          "base_uri": "https://localhost:8080/"
        },
        "id": "jPyohfNhBrJJ",
        "outputId": "0770c4b5-5fbd-49de-dace-538d83b392ed"
      },
      "source": [
        "if not os.path.exists('Tinybird'):\n",
        "    os.makedirs('Tinybird')\n",
        "% cd Tinybird"
      ],
      "execution_count": 13,
      "outputs": [
        {
          "output_type": "stream",
          "text": [
            "/content/gdrive/My Drive/Colab Notebooks/Tinybird\n"
          ],
          "name": "stdout"
        }
      ]
    },
    {
      "cell_type": "code",
      "metadata": {
        "id": "agKsIc1CATrq"
      },
      "source": [
        "!pip install tinybird-cli -q"
      ],
      "execution_count": 14,
      "outputs": []
    },
    {
      "cell_type": "code",
      "metadata": {
        "colab": {
          "base_uri": "https://localhost:8080/"
        },
        "id": "CuP4VtZWC6_G",
        "outputId": "2227e696-00d3-4573-b852-0de8a7b0d58e"
      },
      "source": [
        "!git clone https://github.com/AlisonJD/RTACourse"
      ],
      "execution_count": 18,
      "outputs": [
        {
          "output_type": "stream",
          "text": [
            "Cloning into 'RTACourse'...\n",
            "remote: Enumerating objects: 10, done.\u001b[K\n",
            "remote: Counting objects: 100% (10/10), done.\u001b[K\n",
            "remote: Compressing objects: 100% (8/8), done.\u001b[K\n",
            "remote: Total 10 (delta 2), reused 3 (delta 0), pack-reused 0\u001b[K\n",
            "Unpacking objects: 100% (10/10), done.\n"
          ],
          "name": "stdout"
        }
      ]
    },
    {
      "cell_type": "code",
      "metadata": {
        "colab": {
          "base_uri": "https://localhost:8080/"
        },
        "id": "qylXUrh0AcgI",
        "outputId": "ce31de07-b136-41ad-f19d-a73ab70fce86"
      },
      "source": [
        "!tb init"
      ],
      "execution_count": 15,
      "outputs": [
        {
          "output_type": "stream",
          "text": [
            "\u001b[0m** - /datasources already exists, skipping\u001b[0m\n",
            "\u001b[0m** - /datasources/fixtures already exists, skipping\u001b[0m\n",
            "\u001b[0m** - /endpoints already exists, skipping\u001b[0m\n",
            "\u001b[0m** - /explorations already exists, skipping\u001b[0m\n",
            "\u001b[0m** - /pipes already exists, skipping\u001b[0m\n"
          ],
          "name": "stdout"
        }
      ]
    },
    {
      "cell_type": "code",
      "metadata": {
        "colab": {
          "base_uri": "https://localhost:8080/"
        },
        "id": "Dwz2D2ARAiBR",
        "outputId": "bf756390-3eeb-4565-9490-a506bbce46d7"
      },
      "source": [
        "!tb auth"
      ],
      "execution_count": 8,
      "outputs": [
        {
          "output_type": "stream",
          "text": [
            "Copy the admin token from https://ui.tinybird.co/tokens and paste it here: \n",
            "\u001b[92m** Auth successful! \n",
            "** Configuration written to .tinyb file, consider adding it to .gitignore\u001b[0m\n"
          ],
          "name": "stdout"
        }
      ]
    }
  ]
}
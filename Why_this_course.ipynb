{
  "nbformat": 4,
  "nbformat_minor": 0,
  "metadata": {
    "colab": {
      "name": "Why this course.ipynb",
      "provenance": [],
      "toc_visible": true,
      "authorship_tag": "ABX9TyN0BSg7Guh2ik+Sfdyd50tc",
      "include_colab_link": true
    },
    "kernelspec": {
      "name": "python3",
      "display_name": "Python 3"
    },
    "language_info": {
      "name": "python"
    }
  },
  "cells": [
    {
      "cell_type": "markdown",
      "metadata": {
        "id": "view-in-github",
        "colab_type": "text"
      },
      "source": [
        "<a href=\"https://colab.research.google.com/github/AlisonJD/RTACourse/blob/main/Why_this_course.ipynb\" target=\"_parent\"><img src=\"https://colab.research.google.com/assets/colab-badge.svg\" alt=\"Open In Colab\"/></a>"
      ]
    },
    {
      "cell_type": "markdown",
      "metadata": {
        "id": "xq9J_3pbYrHL"
      },
      "source": [
        "#Why this course?\n",
        "\n",
        "Real-time analytics is now possible. You can analyse large amounts of fresh data with fast queries and be the first to see insights. The real-time component can be ingesting streaming data, fast queries on the data or consuming an API; or any combination of the three. To do real-time analytics well you need to have an understanding of the basics of computer hardware, databases and handling data.\n",
        "\n",
        "Today’s platforms are pushing us to develop things ever more quickly, hardware is generally fast enough and developers often don’t need to worry too much about doing things “properly”. That can be fine but there is value in knowing how things actually work.\n",
        "‍\n",
        "Saving a few CPU cycles may not seem like a worthwhile investment but those few cycles multiplied by billions of iterations means less machines to maintain, less money to spend, less complex architectures and, on top of that, the feeling of having almost everything under control.\n",
        "‍\n",
        "Everything sounds really difficult until you understand it, that’s why we created this course. After going through these notebooks you will be able to run real-time analytics on large amounts of data. No matter which platform you use; the principles are the same for all the products and technologies out there.\n",
        "\n",
        "Don’t get us wrong, we obviously don’t know everything, we make mistakes, we just want to explain the principles and the approach that works for us with our clients who are joining the real-time data-driven revolution.\n"
      ]
    },
    {
      "cell_type": "markdown",
      "metadata": {
        "id": "dfaEAzKlZZZZ"
      },
      "source": [
        "# The use case\n",
        "\n",
        "When you are just starting a project you won’t usually be working with large datasets. It starts small, with just a few clients and then it grows over time. You don’t give a thought as to how you will query 100 M rows.\n",
        "\n",
        "As the project grows you realize that what was fast at the beginning is fast no longer. At some point, you’ll have a lot of data and a lot of people asking questions: \n",
        "How many users do we have?\n",
        "What do they do?\n",
        "What is our ratio of whatever?\n",
        "\n",
        "You realize that you need analytics but your system was just not designed to operate with all the data that you now have. \n",
        "\n",
        "Historically batches of data may have arrived to your systems periodically but increasingly data is arriving in real time.  If you can deal with the fresh data as it arrives then you can put your real-time data to work.\n",
        "\n",
        "Imagine being able to react in real-time to an online marketing campaign, tweaking your actions as you monitor performance, or looking out for attacks on your infrastructure and sending out alerts as soon as a problem appears. The faster you can respond to the insights you are getting from your real-time data the greater the business value.\n",
        "\n",
        "**That’s the use case: you need to do real-time analytics with a large amount of data.**"
      ]
    },
    {
      "cell_type": "markdown",
      "metadata": {
        "id": "fleGzTi1Z2Pp"
      },
      "source": [
        "You may want to\n",
        " - Show an operational dashboard to someone inside the company (an internal data product).\n",
        " - Create a data product for your external customers.\n",
        "Show information to your users about their business in your product.\n",
        " - Calculate some figures for a whole year and export them to an Excel file.\n",
        " - Create models based on historical data.\n",
        "\n",
        "The problem is that although you are used to working with real-time databases (PostgreSQL, MongoDB, Elastic, MySQL…) you realize that once you are working with a lot of data you can no longer work in real-time. You need a solution to be able to run fast queries on fresh data.\n",
        "\n",
        "**This handbook will help you to work with large amounts of data as if it were not-large data. Work in real-time just like you have always been working.**\n"
      ]
    }
  ]
}